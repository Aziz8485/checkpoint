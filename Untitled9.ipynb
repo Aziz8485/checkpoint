{
  "nbformat": 4,
  "nbformat_minor": 0,
  "metadata": {
    "colab": {
      "name": "Untitled9.ipynb",
      "provenance": [],
      "collapsed_sections": [],
      "toc_visible": true
    },
    "kernelspec": {
      "name": "python3",
      "display_name": "Python 3"
    },
    "language_info": {
      "name": "python"
    }
  },
  "cells": [
    {
      "cell_type": "code",
      "metadata": {
        "colab": {
          "base_uri": "https://localhost:8080/"
        },
        "id": "LMtYlCwfboiI",
        "outputId": "f5a16f57-0824-45a4-815d-27f1cc71e8f3"
      },
      "source": [
        "def max_of_two( x, y ):\n",
        "    if x > y:\n",
        "        return x\n",
        "    return y\n",
        "def max_of_three( x, y, z ):\n",
        "    return max_of_two( x, max_of_two( y, z ) )\n",
        "print(max_of_three(20,35 ,19 ))\n"
      ],
      "execution_count": 11,
      "outputs": [
        {
          "output_type": "stream",
          "text": [
            "35\n"
          ],
          "name": "stdout"
        }
      ]
    },
    {
      "cell_type": "code",
      "metadata": {
        "colab": {
          "base_uri": "https://localhost:8080/"
        },
        "id": "g_A-shee4O3W",
        "outputId": "9c97be42-fec8-4566-d119-302186ba3dfa"
      },
      "source": [
        "def clculation(x , y) :\n",
        " c = x+y \n",
        " b = x-y \n",
        " return (c,b) \n",
        "\n",
        "print(clculation (10 , 30))\n"
      ],
      "execution_count": 17,
      "outputs": [
        {
          "output_type": "stream",
          "text": [
            "(40, -20)\n"
          ],
          "name": "stdout"
        }
      ]
    },
    {
      "cell_type": "code",
      "metadata": {
        "colab": {
          "base_uri": "https://localhost:8080/"
        },
        "id": "rakjI8h76pNe",
        "outputId": "2cdc1fb0-e5ed-4db3-eca9-a57622b32dc1"
      },
      "source": [
        "def sum(list) :\n",
        "  s=0\n",
        "  for i in (list):\n",
        "    s=s+i\n",
        "  return s\n",
        "def multi(list) :\n",
        "  l=1\n",
        "  for i in (list):\n",
        "    l=l*i\n",
        "  return l\n",
        "new1=[]\n",
        "liste=[5,4,3]\n",
        "for i in range(0,len(liste),2) :\n",
        "  new1.append(liste[i])\n",
        "print(sum(new1))\n",
        "for i in range(1,len(liste),2) :\n",
        "  print(multi(new1))"
      ],
      "execution_count": 35,
      "outputs": [
        {
          "output_type": "stream",
          "text": [
            "8\n",
            "15\n"
          ],
          "name": "stdout"
        }
      ]
    },
    {
      "cell_type": "code",
      "metadata": {
        "colab": {
          "base_uri": "https://localhost:8080/"
        },
        "id": "jSh5hdq4dEWq",
        "outputId": "fce47707-a45c-44eb-bc08-f805577a55f9"
      },
      "source": [
        "items=[n for n in input().split('-')]\n",
        "items.sort()\n",
        "print('-'.join(items))"
      ],
      "execution_count": 45,
      "outputs": [
        {
          "output_type": "stream",
          "text": [
            "green-red-black-white \n",
            "black-green-red-white \n"
          ],
          "name": "stdout"
        }
      ]
    },
    {
      "cell_type": "code",
      "metadata": {
        "colab": {
          "base_uri": "https://localhost:8080/"
        },
        "id": "G3eyxvxCG3P_",
        "outputId": "c3467283-9f2b-4e5a-9cd0-14e9935be9fa"
      },
      "source": [
        "import math\n",
        "n=input(\"entrez des valeurs\")\n",
        "list=n.split(\",\")\n",
        "list1=[]\n",
        "for i in range(3):\n",
        "  list1.append(int(list[i]))\n",
        "  r=map(lambda n: math.sqrt((2*50*n)/30),list1)\n",
        "for i in r:\n",
        "  print(int(i),\"-\",end=\"\")"
      ],
      "execution_count": 41,
      "outputs": [
        {
          "output_type": "stream",
          "text": [
            "entrez des valeurs100,150,200\n",
            "18 -22 -25 -"
          ],
          "name": "stdout"
        }
      ]
    }
  ]
}